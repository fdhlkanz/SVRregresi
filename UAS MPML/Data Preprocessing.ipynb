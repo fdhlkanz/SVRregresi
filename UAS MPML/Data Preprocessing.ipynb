{
 "cells": [
  {
   "cell_type": "code",
   "execution_count": 46,
   "id": "948a8ceb",
   "metadata": {},
   "outputs": [],
   "source": [
    "import pandas as pd\n",
    "from sklearn.model_selection import train_test_split\n",
    "from sklearn.preprocessing import LabelEncoder, StandardScaler\n"
   ]
  },
  {
   "cell_type": "code",
   "execution_count": 47,
   "id": "ae6b3a7f",
   "metadata": {},
   "outputs": [
    {
     "data": {
      "text/html": [
       "<div>\n",
       "<style scoped>\n",
       "    .dataframe tbody tr th:only-of-type {\n",
       "        vertical-align: middle;\n",
       "    }\n",
       "\n",
       "    .dataframe tbody tr th {\n",
       "        vertical-align: top;\n",
       "    }\n",
       "\n",
       "    .dataframe thead th {\n",
       "        text-align: right;\n",
       "    }\n",
       "</style>\n",
       "<table border=\"1\" class=\"dataframe\">\n",
       "  <thead>\n",
       "    <tr style=\"text-align: right;\">\n",
       "      <th></th>\n",
       "      <th>Brand_Name</th>\n",
       "      <th>How_Many_Sold</th>\n",
       "      <th>Current_Price</th>\n",
       "      <th>Product_details</th>\n",
       "      <th>RATING</th>\n",
       "    </tr>\n",
       "  </thead>\n",
       "  <tbody>\n",
       "    <tr>\n",
       "      <th>0</th>\n",
       "      <td>ASIAN</td>\n",
       "      <td>2,242</td>\n",
       "      <td>₹1,098</td>\n",
       "      <td>Oxygen-01 Sports Running,Walking &amp; Gym Shoes w...</td>\n",
       "      <td>3.8</td>\n",
       "    </tr>\n",
       "    <tr>\n",
       "      <th>1</th>\n",
       "      <td>ASIAN</td>\n",
       "      <td>240</td>\n",
       "      <td>₹674</td>\n",
       "      <td>Men's Express-08 Sports Running,Walking,Gym,Tr...</td>\n",
       "      <td>4.0</td>\n",
       "    </tr>\n",
       "    <tr>\n",
       "      <th>2</th>\n",
       "      <td>ASIAN</td>\n",
       "      <td>16,662</td>\n",
       "      <td>₹588</td>\n",
       "      <td>Men's Cosko Sports Running,Walking,Gym,Trainin...</td>\n",
       "      <td>3.8</td>\n",
       "    </tr>\n",
       "    <tr>\n",
       "      <th>3</th>\n",
       "      <td>ASIAN</td>\n",
       "      <td>135</td>\n",
       "      <td>₹599</td>\n",
       "      <td>Wind-03 Sports Running,Walking &amp; Gym Shoes wit...</td>\n",
       "      <td>4.0</td>\n",
       "    </tr>\n",
       "    <tr>\n",
       "      <th>4</th>\n",
       "      <td>Reebok</td>\n",
       "      <td>240</td>\n",
       "      <td>₹982</td>\n",
       "      <td>Men's Velocity Runner Lp Running Shoe</td>\n",
       "      <td>4.0</td>\n",
       "    </tr>\n",
       "  </tbody>\n",
       "</table>\n",
       "</div>"
      ],
      "text/plain": [
       "  Brand_Name How_Many_Sold Current_Price  \\\n",
       "0      ASIAN         2,242        ₹1,098   \n",
       "1      ASIAN           240          ₹674   \n",
       "2      ASIAN        16,662          ₹588   \n",
       "3      ASIAN           135          ₹599   \n",
       "4     Reebok           240          ₹982   \n",
       "\n",
       "                                     Product_details  RATING  \n",
       "0  Oxygen-01 Sports Running,Walking & Gym Shoes w...     3.8  \n",
       "1  Men's Express-08 Sports Running,Walking,Gym,Tr...     4.0  \n",
       "2  Men's Cosko Sports Running,Walking,Gym,Trainin...     3.8  \n",
       "3  Wind-03 Sports Running,Walking & Gym Shoes wit...     4.0  \n",
       "4            Men's Velocity Runner Lp Running Shoe       4.0  "
      ]
     },
     "execution_count": 47,
     "metadata": {},
     "output_type": "execute_result"
    }
   ],
   "source": [
    "# Ganti path sesuai lokasi file kamu\n",
    "data = pd.read_csv(\"MEN_SHOES.csv\")\n",
    "\n",
    "# Cek 5 baris pertama\n",
    "data.head()"
   ]
  },
  {
   "cell_type": "code",
   "execution_count": 48,
   "id": "b70381a8",
   "metadata": {},
   "outputs": [
    {
     "name": "stdout",
     "output_type": "stream",
     "text": [
      "Index(['Brand_Name', 'How_Many_Sold', 'Current_Price', 'Product_details',\n",
      "       'RATING'],\n",
      "      dtype='object')\n",
      "Brand_Name          object\n",
      "How_Many_Sold       object\n",
      "Current_Price       object\n",
      "Product_details     object\n",
      "RATING             float64\n",
      "dtype: object\n"
     ]
    }
   ],
   "source": [
    "print(data.columns)\n",
    "print(data.dtypes)\n"
   ]
  },
  {
   "cell_type": "code",
   "execution_count": 49,
   "id": "1c6c0604",
   "metadata": {},
   "outputs": [
    {
     "name": "stdout",
     "output_type": "stream",
     "text": [
      "Brand_Name           0\n",
      "How_Many_Sold        0\n",
      "Current_Price      798\n",
      "Product_details      0\n",
      "RATING               0\n",
      "dtype: int64\n"
     ]
    }
   ],
   "source": [
    "# Cek missing value pada setiap kolom\n",
    "print(data.isnull().sum())"
   ]
  },
  {
   "cell_type": "code",
   "execution_count": 50,
   "id": "117b3142",
   "metadata": {},
   "outputs": [],
   "source": [
    "from sklearn.impute import SimpleImputer\n",
    "\n",
    "# Imputasi nilai hilang pada kolom numerik\n",
    "num_cols = data.select_dtypes(include=['int64', 'float64']).columns\n",
    "num_imputer = SimpleImputer(strategy='mean')\n",
    "data[num_cols] = num_imputer.fit_transform(data[num_cols])\n",
    "\n",
    "# Imputasi nilai hilang pada kolom kategorik\n",
    "cat_cols_missing = [col for col in data.select_dtypes(include='object').columns if data[col].isnull().any()]\n",
    "\n",
    "# Tambahkan baris ini untuk mendefinisikan cat_imputer\n",
    "cat_imputer = SimpleImputer(strategy='most_frequent')\n",
    "\n",
    "data[cat_cols_missing] = cat_imputer.fit_transform(data[cat_cols_missing])\n",
    "\n",
    "# Imputasi nilai hilang pada kolom harga (jika ada)\n",
    "if 'Current_Price_clean' in data.columns and data['Current_Price_clean'].isnull().any():\n",
    "    data['Current_Price_clean'] = num_imputer.fit_transform(data[['Current_Price_clean']])"
   ]
  },
  {
   "cell_type": "code",
   "execution_count": 51,
   "id": "487be3c3",
   "metadata": {},
   "outputs": [
    {
     "name": "stdout",
     "output_type": "stream",
     "text": [
      "Brand_Name         0\n",
      "How_Many_Sold      0\n",
      "Current_Price      0\n",
      "Product_details    0\n",
      "RATING             0\n",
      "dtype: int64\n"
     ]
    }
   ],
   "source": [
    "print(data.isnull().sum())"
   ]
  },
  {
   "cell_type": "markdown",
   "id": "1ad8f2a1",
   "metadata": {},
   "source": [
    "## Encoding Variabel Kategorik ##\n"
   ]
  },
  {
   "cell_type": "code",
   "execution_count": 52,
   "id": "bb8391bf",
   "metadata": {},
   "outputs": [
    {
     "name": "stdout",
     "output_type": "stream",
     "text": [
      "Shape X_final: (23940, 62)\n",
      "Shape y_encoded: (23940,)\n"
     ]
    }
   ],
   "source": [
    "import pandas as pd\n",
    "from sklearn.preprocessing import OneHotEncoder, LabelEncoder\n",
    "\n",
    "# Asumsikan 'data' adalah DataFrame Anda\n",
    "# Kolom target: 'Brand_Name'\n",
    "# Kolom kategorik untuk OneHotEncoder: 'Product_details'\n",
    "# Kolom numerik: 'How_Many_Sold', 'Current_Price', 'RATING'\n",
    "\n",
    "# Definisikan fitur (X) dan target (y)\n",
    "X = data.drop('Brand_Name', axis=1)\n",
    "y = data['Brand_Name']\n",
    "\n",
    "# --- LabelEncoder untuk Kolom Target ---\n",
    "label_encoder = LabelEncoder()\n",
    "y_encoded = label_encoder.fit_transform(y)\n",
    "\n",
    "# --- OneHotEncoder untuk Fitur Kategorik ---\n",
    "# OneHotEncoder digunakan pada kolom 'Product_details'\n",
    "ohe = OneHotEncoder(handle_unknown='ignore', sparse_output=False)\n",
    "X_ohe = ohe.fit_transform(X[['Product_details']])\n",
    "\n",
    "# Dapatkan nama-nama kolom baru dari one-hot encoding\n",
    "ohe_feature_names = ohe.get_feature_names_out(['Product_details'])\n",
    "\n",
    "# Gabungkan hasil one-hot encoding dengan fitur numerik lainnya\n",
    "X_encoded = pd.DataFrame(X_ohe, columns=ohe_feature_names, index=X.index)\n",
    "X_final = pd.concat([X.drop('Product_details', axis=1), X_encoded], axis=1)\n",
    "\n",
    "print(\"Shape X_final:\", X_final.shape)\n",
    "print(\"Shape y_encoded:\", y_encoded.shape)"
   ]
  },
  {
   "cell_type": "markdown",
   "id": "582c98f6",
   "metadata": {},
   "source": [
    "##  Scaling Fitur Numerik ##"
   ]
  },
  {
   "cell_type": "code",
   "execution_count": 53,
   "id": "f28eb2f2",
   "metadata": {},
   "outputs": [
    {
     "name": "stdout",
     "output_type": "stream",
     "text": [
      "   How_Many_Sold  Current_Price    RATING Brand_Name  \\\n",
      "0      -0.116968       0.619604 -0.089283      ASIAN   \n",
      "1      -0.303546      -0.470111  0.397717      ASIAN   \n",
      "2       1.226914      -0.691138 -0.089283      ASIAN   \n",
      "3      -0.313332      -0.662867  0.397717      ASIAN   \n",
      "4      -0.303546       0.321474  0.397717     Reebok   \n",
      "\n",
      "                                     Product_details  \n",
      "0  Oxygen-01 Sports Running,Walking & Gym Shoes w...  \n",
      "1  Men's Express-08 Sports Running,Walking,Gym,Tr...  \n",
      "2  Men's Cosko Sports Running,Walking,Gym,Trainin...  \n",
      "3  Wind-03 Sports Running,Walking & Gym Shoes wit...  \n",
      "4            Men's Velocity Runner Lp Running Shoe    \n"
     ]
    }
   ],
   "source": [
    "import pandas as pd\n",
    "from sklearn.impute import SimpleImputer\n",
    "from sklearn.preprocessing import StandardScaler\n",
    "\n",
    "# Contoh data loading (ganti dengan data asli kamu)\n",
    "# data = pd.read_csv(\"filemu.csv\")\n",
    "\n",
    "# --- 1. Bersihkan kolom numerik dari simbol dan koma ---\n",
    "# How_Many_Sold: hilangkan koma, ubah ke float\n",
    "data['How_Many_Sold'] = data['How_Many_Sold'].replace(',', '', regex=True).astype(float)\n",
    "\n",
    "# Current_Price: hilangkan simbol ₹ dan koma, ubah ke float\n",
    "data['Current_Price'] = data['Current_Price'].replace('[₹,]', '', regex=True).astype(float)\n",
    "\n",
    "# --- 2. Pilih kolom numerik (yang akan di-scale) ---\n",
    "numeric_features = ['How_Many_Sold', 'Current_Price', 'RATING']\n",
    "\n",
    "# --- 3. Imputasi NaN (jika ada) ---\n",
    "imputer = SimpleImputer(strategy='mean')\n",
    "numeric_imputed = imputer.fit_transform(data[numeric_features])\n",
    "\n",
    "# --- 4. Standard Scaler (Z-score scaling) ---\n",
    "scaler = StandardScaler()\n",
    "numeric_scaled = scaler.fit_transform(numeric_imputed)\n",
    "\n",
    "# --- 5. Buat DataFrame hasil scaling ---\n",
    "df_numeric_scaled = pd.DataFrame(numeric_scaled, columns=numeric_features)\n",
    "\n",
    "# --- (Opsional) Gabungkan dengan kolom non-numerik ---\n",
    "non_numeric = data.drop(columns=numeric_features).reset_index(drop=True)\n",
    "df_final = pd.concat([df_numeric_scaled, non_numeric], axis=1)\n",
    "\n",
    "# --- Lihat hasil ---\n",
    "print(df_final.head())\n"
   ]
  },
  {
   "cell_type": "markdown",
   "id": "44397131",
   "metadata": {},
   "source": [
    "## Membagi Data Menjadi Training dan Testing Set ##"
   ]
  },
  {
   "cell_type": "code",
   "execution_count": 54,
   "id": "59a0dbc1",
   "metadata": {},
   "outputs": [
    {
     "name": "stdout",
     "output_type": "stream",
     "text": [
      "Bentuk X_train: (19152, 4)\n",
      "Bentuk X_test: (4788, 4)\n",
      "Bentuk y_train: (19152,)\n",
      "Bentuk y_test: (4788,)\n"
     ]
    }
   ],
   "source": [
    "from sklearn.model_selection import train_test_split\n",
    "\n",
    "# Asumsikan X adalah fitur dan y adalah target Anda\n",
    "# Pisahkan data menjadi set pelatihan (80%) dan set pengujian (20%)\n",
    "X_train, X_test, y_train, y_test = train_test_split(X, y, test_size=0.2, random_state=42)\n",
    "\n",
    "# Anda juga dapat menggunakan stratified sampling jika target memiliki kelas yang tidak seimbang\n",
    "# Misalnya, jika y adalah kolom target yang telah di-encode (y_encoded)\n",
    "X_train, X_test, y_train, y_test = train_test_split(X, y_encoded, test_size=0.2, random_state=42, stratify=y_encoded)\n",
    "\n",
    "# Cetak bentuk (shape) dari setiap set untuk verifikasi\n",
    "print(f\"Bentuk X_train: {X_train.shape}\")\n",
    "print(f\"Bentuk X_test: {X_test.shape}\")\n",
    "print(f\"Bentuk y_train: {y_train.shape}\")\n",
    "print(f\"Bentuk y_test: {y_test.shape}\")"
   ]
  },
  {
   "cell_type": "markdown",
   "id": "6fa62e31",
   "metadata": {},
   "source": [
    "## Pelatihan dan Perbandingan Model ##"
   ]
  },
  {
   "cell_type": "code",
   "execution_count": 77,
   "id": "ba7339f6",
   "metadata": {},
   "outputs": [],
   "source": [
    "#pelatihan model\n",
    "from sklearn.linear_model import LinearRegression\n",
    "from sklearn.ensemble import RandomForestRegressor\n",
    "from sklearn.svm import SVR\n",
    "from sklearn.pipeline import Pipeline\n",
    "from sklearn.model_selection import GridSearchCV    \n",
    "# === Definisikan model dan parameter tuning ===\n",
    "models = {\n",
    "    'Linear Regression': LinearRegression(),\n",
    "    'Random Forest': RandomForestRegressor(),\n",
    "    'Support Vector Regression': SVR()\n",
    "}"
   ]
  },
  {
   "cell_type": "code",
   "execution_count": 75,
   "id": "9603dc9a",
   "metadata": {},
   "outputs": [],
   "source": [
    "# === Definisikan parameter grid untuk GridSearchCV ===\n",
    "param_grids = {\n",
    "    'Linear Regression': {},\n",
    "    'Random Forest': {\n",
    "        'n_estimators': [50, 100],\n",
    "        'max_depth': [None, 10, 20]\n",
    "    },\n",
    "    'Support Vector Regression': {\n",
    "        'kernel': ['linear', 'rbf'],\n",
    "        'C': [0.1, 1, 10]\n",
    "    }\n",
    "}\n"
   ]
  },
  {
   "cell_type": "code",
   "execution_count": null,
   "id": "658dd056",
   "metadata": {},
   "outputs": [],
   "source": [
    "from sklearn.model_selection import GridSearchCV, cross_val_score\n",
    "from sklearn.metrics import mean_absolute_error, mean_squared_error, r2_score\n",
    "import numpy as np\n",
    "import pandas as pd\n",
    "import matplotlib.pyplot as plt\n",
    "\n",
    "results = []\n",
    "best_models = {}\n",
    "best_params = {}\n",
    "\n",
    "for name, model in models.items():\n",
    "    print(f\"Training model: {name}\")\n",
    "\n",
    "    if name in param_grids:\n",
    "        grid = GridSearchCV(model, param_grids[name], cv=5, scoring=\"neg_mean_squared_error\", n_jobs=-1)\n",
    "        grid.fit(X_train, y_train)\n",
    "        best_model = grid.best_estimator_\n",
    "        best_params[name] = grid.best_params_\n",
    "    else:\n",
    "        model.fit(X_train, y_train)\n",
    "        best_model = model\n",
    "        best_params[name] = \"Default Parameters\"\n",
    "\n",
    "    best_models[name] = best_model\n",
    "\n",
    "    # Prediksi dan evaluasi\n",
    "    y_pred = best_model.predict(X_test)\n",
    "    mae = mean_absolute_error(y_test, y_pred)\n",
    "    mse = mean_squared_error(y_test, y_pred)\n",
    "    rmse = np.sqrt(mse)\n",
    "    r2 = r2_score(y_test, y_pred)\n",
    "\n",
    "    # Cross-validation (R2)\n",
    "    cv_r2 = cross_val_score(best_model, X_scaled, y, cv=5, scoring='r2').mean()\n",
    "\n",
    "    results.append({\n",
    "        \"Model\": name,\n",
    "        \"MAE\": mae,\n",
    "        \"MSE\": mse,\n",
    "        \"RMSE\": rmse,\n",
    "        \"R2\": r2,\n",
    "        \"CV R2\": cv_r2\n",
    "    })\n",
    "\n",
    "results_df = pd.DataFrame(results)\n",
    "print(\"\\n=== Perbandingan Kinerja Model ===\")\n",
    "print(results_df)\n",
    "\n",
    "print(\"\\n=== Parameter Terbaik Tiap Model ===\")\n",
    "for name, params in best_params.items():\n",
    "    print(f\"{name}: {params}\")\n"
   ]
  },
  {
   "cell_type": "code",
   "execution_count": null,
   "id": "4564defd",
   "metadata": {},
   "outputs": [],
   "source": [
    "# Barplot untuk R2 dan RMSE\n",
    "fig, axes = plt.subplots(1, 2, figsize=(14, 5))\n",
    "\n",
    "# Plot R²\n",
    "axes[0].bar(results_df[\"Model\"], results_df[\"R²\"], color='skyblue')\n",
    "axes[0].set_title(\"R² Score Comparison\")\n",
    "axes[0].set_ylabel(\"R² Score\")\n",
    "axes[0].set_ylim(0, 1)\n",
    "\n",
    "# Plot RMSE\n",
    "axes[1].bar(results_df[\"Model\"], results_df[\"RMSE\"], color='salmon')\n",
    "axes[1].set_title(\"RMSE Comparison\")\n",
    "axes[1].set_ylabel(\"RMSE\")\n",
    "\n",
    "plt.tight_layout()\n",
    "plt.show()\n"
   ]
  }
 ],
 "metadata": {
  "kernelspec": {
   "display_name": "base",
   "language": "python",
   "name": "python3"
  },
  "language_info": {
   "codemirror_mode": {
    "name": "ipython",
    "version": 3
   },
   "file_extension": ".py",
   "mimetype": "text/x-python",
   "name": "python",
   "nbconvert_exporter": "python",
   "pygments_lexer": "ipython3",
   "version": "3.12.7"
  }
 },
 "nbformat": 4,
 "nbformat_minor": 5
}
